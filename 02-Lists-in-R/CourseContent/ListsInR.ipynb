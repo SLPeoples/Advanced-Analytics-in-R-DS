{
 "cells": [
  {
   "cell_type": "markdown",
   "metadata": {},
   "source": [
    "# Project Overview\n",
    "\n",
    "You have been engaged as a Data Science consultant by a coal terminal. They would like you to investigate one of their heavy machines.\n",
    "\n",
    "You have been supplied one month worth of data for all of their machines. The dataset shows what percentage of capacity for each machine was idle in any given hour. You are require to deliver an R list with the following components:\n",
    "\n",
    "* Character: Machine name\n",
    "* Vector: (Min, Mean, Max) utilization for the month (excluding unknown hours)\n",
    "* Logical: Has utilization ever fallen below 90%? T/F\n",
    "* Dataframe: For this machine\n",
    "* Plot: For all machines\n",
    "\n",
    "In this section we will cover:\n",
    "\n",
    "1. How to handle date-times\n",
    "2. What POSIXct time is\n",
    "3. What a list is\n",
    "4. Working with lists\n",
    "5. Differences between [] [[]] and $\n",
    "6. Subsetting a list\n",
    "7. How to create a timeseries plot in R"
   ]
  },
  {
   "cell_type": "code",
   "execution_count": 41,
   "metadata": {
    "collapsed": true
   },
   "outputs": [],
   "source": [
    "util = read.csv(\"Machine-Utilization.csv\")"
   ]
  },
  {
   "cell_type": "code",
   "execution_count": 42,
   "metadata": {},
   "outputs": [
    {
     "data": {
      "text/html": [
       "<table>\n",
       "<thead><tr><th scope=col>Timestamp</th><th scope=col>Machine</th><th scope=col>Percent.Idle</th></tr></thead>\n",
       "<tbody>\n",
       "\t<tr><td>01/09/2016 00:00</td><td>RL1             </td><td>        NA      </td></tr>\n",
       "\t<tr><td>01/09/2016 01:00</td><td>RL1             </td><td>        NA      </td></tr>\n",
       "\t<tr><td>01/09/2016 02:00</td><td>RL1             </td><td>        NA      </td></tr>\n",
       "\t<tr><td>01/09/2016 03:00</td><td>RL1             </td><td>        NA      </td></tr>\n",
       "\t<tr><td>01/09/2016 04:00</td><td>RL1             </td><td>        NA      </td></tr>\n",
       "\t<tr><td>01/09/2016 05:00</td><td>RL1             </td><td>        NA      </td></tr>\n",
       "\t<tr><td>01/09/2016 06:00</td><td>RL1             </td><td>        NA      </td></tr>\n",
       "\t<tr><td>01/09/2016 07:00</td><td>RL1             </td><td>0.01994048      </td></tr>\n",
       "\t<tr><td>01/09/2016 08:00</td><td>RL1             </td><td>0.01997024      </td></tr>\n",
       "\t<tr><td>01/09/2016 09:00</td><td>RL1             </td><td>0.02119048      </td></tr>\n",
       "</tbody>\n",
       "</table>\n"
      ],
      "text/latex": [
       "\\begin{tabular}{r|lll}\n",
       " Timestamp & Machine & Percent.Idle\\\\\n",
       "\\hline\n",
       "\t 01/09/2016 00:00 & RL1              &         NA      \\\\\n",
       "\t 01/09/2016 01:00 & RL1              &         NA      \\\\\n",
       "\t 01/09/2016 02:00 & RL1              &         NA      \\\\\n",
       "\t 01/09/2016 03:00 & RL1              &         NA      \\\\\n",
       "\t 01/09/2016 04:00 & RL1              &         NA      \\\\\n",
       "\t 01/09/2016 05:00 & RL1              &         NA      \\\\\n",
       "\t 01/09/2016 06:00 & RL1              &         NA      \\\\\n",
       "\t 01/09/2016 07:00 & RL1              & 0.01994048      \\\\\n",
       "\t 01/09/2016 08:00 & RL1              & 0.01997024      \\\\\n",
       "\t 01/09/2016 09:00 & RL1              & 0.02119048      \\\\\n",
       "\\end{tabular}\n"
      ],
      "text/markdown": [
       "\n",
       "Timestamp | Machine | Percent.Idle | \n",
       "|---|---|---|---|---|---|---|---|---|---|\n",
       "| 01/09/2016 00:00 | RL1              |         NA       | \n",
       "| 01/09/2016 01:00 | RL1              |         NA       | \n",
       "| 01/09/2016 02:00 | RL1              |         NA       | \n",
       "| 01/09/2016 03:00 | RL1              |         NA       | \n",
       "| 01/09/2016 04:00 | RL1              |         NA       | \n",
       "| 01/09/2016 05:00 | RL1              |         NA       | \n",
       "| 01/09/2016 06:00 | RL1              |         NA       | \n",
       "| 01/09/2016 07:00 | RL1              | 0.01994048       | \n",
       "| 01/09/2016 08:00 | RL1              | 0.01997024       | \n",
       "| 01/09/2016 09:00 | RL1              | 0.02119048       | \n",
       "\n",
       "\n"
      ],
      "text/plain": [
       "   Timestamp        Machine Percent.Idle\n",
       "1  01/09/2016 00:00 RL1             NA  \n",
       "2  01/09/2016 01:00 RL1             NA  \n",
       "3  01/09/2016 02:00 RL1             NA  \n",
       "4  01/09/2016 03:00 RL1             NA  \n",
       "5  01/09/2016 04:00 RL1             NA  \n",
       "6  01/09/2016 05:00 RL1             NA  \n",
       "7  01/09/2016 06:00 RL1             NA  \n",
       "8  01/09/2016 07:00 RL1     0.01994048  \n",
       "9  01/09/2016 08:00 RL1     0.01997024  \n",
       "10 01/09/2016 09:00 RL1     0.02119048  "
      ]
     },
     "metadata": {},
     "output_type": "display_data"
    }
   ],
   "source": [
    "head(util, 10)"
   ]
  },
  {
   "cell_type": "code",
   "execution_count": 43,
   "metadata": {},
   "outputs": [
    {
     "data": {
      "text/plain": [
       "            Timestamp    Machine     Percent.Idle   \n",
       " 01/09/2016 00:00:   5   RL1 :720   Min.   :0.0000  \n",
       " 01/09/2016 01:00:   5   RL2 :720   1st Qu.:0.0262  \n",
       " 01/09/2016 02:00:   5   SR1 :720   Median :0.0410  \n",
       " 01/09/2016 03:00:   5   SR4A:720   Mean   :0.0431  \n",
       " 01/09/2016 04:00:   5   SR6 :720   3rd Qu.:0.0576  \n",
       " 01/09/2016 05:00:   5              Max.   :0.1508  \n",
       " (Other)         :3570              NA's   :361     "
      ]
     },
     "metadata": {},
     "output_type": "display_data"
    }
   ],
   "source": [
    "summary(util)"
   ]
  },
  {
   "cell_type": "markdown",
   "metadata": {},
   "source": [
    "## Derive the 'Utilization' Column"
   ]
  },
  {
   "cell_type": "code",
   "execution_count": 44,
   "metadata": {
    "collapsed": true
   },
   "outputs": [],
   "source": [
    "util$Utilization = 1- util$Percent.Idle"
   ]
  },
  {
   "cell_type": "code",
   "execution_count": 45,
   "metadata": {},
   "outputs": [
    {
     "data": {
      "text/html": [
       "<table>\n",
       "<thead><tr><th scope=col>Timestamp</th><th scope=col>Machine</th><th scope=col>Percent.Idle</th><th scope=col>Utilization</th></tr></thead>\n",
       "<tbody>\n",
       "\t<tr><td>01/09/2016 00:00</td><td>RL1             </td><td>        NA      </td><td>       NA       </td></tr>\n",
       "\t<tr><td>01/09/2016 01:00</td><td>RL1             </td><td>        NA      </td><td>       NA       </td></tr>\n",
       "\t<tr><td>01/09/2016 02:00</td><td>RL1             </td><td>        NA      </td><td>       NA       </td></tr>\n",
       "\t<tr><td>01/09/2016 03:00</td><td>RL1             </td><td>        NA      </td><td>       NA       </td></tr>\n",
       "\t<tr><td>01/09/2016 04:00</td><td>RL1             </td><td>        NA      </td><td>       NA       </td></tr>\n",
       "\t<tr><td>01/09/2016 05:00</td><td>RL1             </td><td>        NA      </td><td>       NA       </td></tr>\n",
       "\t<tr><td>01/09/2016 06:00</td><td>RL1             </td><td>        NA      </td><td>       NA       </td></tr>\n",
       "\t<tr><td>01/09/2016 07:00</td><td>RL1             </td><td>0.01994048      </td><td>0.9800595       </td></tr>\n",
       "\t<tr><td>01/09/2016 08:00</td><td>RL1             </td><td>0.01997024      </td><td>0.9800298       </td></tr>\n",
       "\t<tr><td>01/09/2016 09:00</td><td>RL1             </td><td>0.02119048      </td><td>0.9788095       </td></tr>\n",
       "</tbody>\n",
       "</table>\n"
      ],
      "text/latex": [
       "\\begin{tabular}{r|llll}\n",
       " Timestamp & Machine & Percent.Idle & Utilization\\\\\n",
       "\\hline\n",
       "\t 01/09/2016 00:00 & RL1              &         NA       &        NA       \\\\\n",
       "\t 01/09/2016 01:00 & RL1              &         NA       &        NA       \\\\\n",
       "\t 01/09/2016 02:00 & RL1              &         NA       &        NA       \\\\\n",
       "\t 01/09/2016 03:00 & RL1              &         NA       &        NA       \\\\\n",
       "\t 01/09/2016 04:00 & RL1              &         NA       &        NA       \\\\\n",
       "\t 01/09/2016 05:00 & RL1              &         NA       &        NA       \\\\\n",
       "\t 01/09/2016 06:00 & RL1              &         NA       &        NA       \\\\\n",
       "\t 01/09/2016 07:00 & RL1              & 0.01994048       & 0.9800595       \\\\\n",
       "\t 01/09/2016 08:00 & RL1              & 0.01997024       & 0.9800298       \\\\\n",
       "\t 01/09/2016 09:00 & RL1              & 0.02119048       & 0.9788095       \\\\\n",
       "\\end{tabular}\n"
      ],
      "text/markdown": [
       "\n",
       "Timestamp | Machine | Percent.Idle | Utilization | \n",
       "|---|---|---|---|---|---|---|---|---|---|\n",
       "| 01/09/2016 00:00 | RL1              |         NA       |        NA        | \n",
       "| 01/09/2016 01:00 | RL1              |         NA       |        NA        | \n",
       "| 01/09/2016 02:00 | RL1              |         NA       |        NA        | \n",
       "| 01/09/2016 03:00 | RL1              |         NA       |        NA        | \n",
       "| 01/09/2016 04:00 | RL1              |         NA       |        NA        | \n",
       "| 01/09/2016 05:00 | RL1              |         NA       |        NA        | \n",
       "| 01/09/2016 06:00 | RL1              |         NA       |        NA        | \n",
       "| 01/09/2016 07:00 | RL1              | 0.01994048       | 0.9800595        | \n",
       "| 01/09/2016 08:00 | RL1              | 0.01997024       | 0.9800298        | \n",
       "| 01/09/2016 09:00 | RL1              | 0.02119048       | 0.9788095        | \n",
       "\n",
       "\n"
      ],
      "text/plain": [
       "   Timestamp        Machine Percent.Idle Utilization\n",
       "1  01/09/2016 00:00 RL1             NA          NA  \n",
       "2  01/09/2016 01:00 RL1             NA          NA  \n",
       "3  01/09/2016 02:00 RL1             NA          NA  \n",
       "4  01/09/2016 03:00 RL1             NA          NA  \n",
       "5  01/09/2016 04:00 RL1             NA          NA  \n",
       "6  01/09/2016 05:00 RL1             NA          NA  \n",
       "7  01/09/2016 06:00 RL1             NA          NA  \n",
       "8  01/09/2016 07:00 RL1     0.01994048   0.9800595  \n",
       "9  01/09/2016 08:00 RL1     0.01997024   0.9800298  \n",
       "10 01/09/2016 09:00 RL1     0.02119048   0.9788095  "
      ]
     },
     "metadata": {},
     "output_type": "display_data"
    }
   ],
   "source": [
    "head(util,10)"
   ]
  },
  {
   "cell_type": "markdown",
   "metadata": {},
   "source": [
    "# Handling the Date-Times"
   ]
  },
  {
   "cell_type": "code",
   "execution_count": 46,
   "metadata": {},
   "outputs": [
    {
     "data": {
      "text/html": [
       "<table>\n",
       "<thead><tr><th></th><th scope=col>Timestamp</th><th scope=col>Machine</th><th scope=col>Percent.Idle</th><th scope=col>Utilization</th></tr></thead>\n",
       "<tbody>\n",
       "\t<tr><th scope=row>3595</th><td>30/09/2016 18:00</td><td>SR6             </td><td>0.03485507      </td><td>0.9651449       </td></tr>\n",
       "\t<tr><th scope=row>3596</th><td>30/09/2016 19:00</td><td>SR6             </td><td>0.04605073      </td><td>0.9539493       </td></tr>\n",
       "\t<tr><th scope=row>3597</th><td>30/09/2016 20:00</td><td>SR6             </td><td>0.04427536      </td><td>0.9557246       </td></tr>\n",
       "\t<tr><th scope=row>3598</th><td>30/09/2016 21:00</td><td>SR6             </td><td>0.04141304      </td><td>0.9585870       </td></tr>\n",
       "\t<tr><th scope=row>3599</th><td>30/09/2016 22:00</td><td>SR6             </td><td>0.06750000      </td><td>0.9325000       </td></tr>\n",
       "\t<tr><th scope=row>3600</th><td>30/09/2016 23:00</td><td>SR6             </td><td>0.05355073      </td><td>0.9464493       </td></tr>\n",
       "</tbody>\n",
       "</table>\n"
      ],
      "text/latex": [
       "\\begin{tabular}{r|llll}\n",
       "  & Timestamp & Machine & Percent.Idle & Utilization\\\\\n",
       "\\hline\n",
       "\t3595 & 30/09/2016 18:00 & SR6              & 0.03485507       & 0.9651449       \\\\\n",
       "\t3596 & 30/09/2016 19:00 & SR6              & 0.04605073       & 0.9539493       \\\\\n",
       "\t3597 & 30/09/2016 20:00 & SR6              & 0.04427536       & 0.9557246       \\\\\n",
       "\t3598 & 30/09/2016 21:00 & SR6              & 0.04141304       & 0.9585870       \\\\\n",
       "\t3599 & 30/09/2016 22:00 & SR6              & 0.06750000       & 0.9325000       \\\\\n",
       "\t3600 & 30/09/2016 23:00 & SR6              & 0.05355073       & 0.9464493       \\\\\n",
       "\\end{tabular}\n"
      ],
      "text/markdown": [
       "\n",
       "| <!--/--> | Timestamp | Machine | Percent.Idle | Utilization | \n",
       "|---|---|---|---|---|---|\n",
       "| 3595 | 30/09/2016 18:00 | SR6              | 0.03485507       | 0.9651449        | \n",
       "| 3596 | 30/09/2016 19:00 | SR6              | 0.04605073       | 0.9539493        | \n",
       "| 3597 | 30/09/2016 20:00 | SR6              | 0.04427536       | 0.9557246        | \n",
       "| 3598 | 30/09/2016 21:00 | SR6              | 0.04141304       | 0.9585870        | \n",
       "| 3599 | 30/09/2016 22:00 | SR6              | 0.06750000       | 0.9325000        | \n",
       "| 3600 | 30/09/2016 23:00 | SR6              | 0.05355073       | 0.9464493        | \n",
       "\n",
       "\n"
      ],
      "text/plain": [
       "     Timestamp        Machine Percent.Idle Utilization\n",
       "3595 30/09/2016 18:00 SR6     0.03485507   0.9651449  \n",
       "3596 30/09/2016 19:00 SR6     0.04605073   0.9539493  \n",
       "3597 30/09/2016 20:00 SR6     0.04427536   0.9557246  \n",
       "3598 30/09/2016 21:00 SR6     0.04141304   0.9585870  \n",
       "3599 30/09/2016 22:00 SR6     0.06750000   0.9325000  \n",
       "3600 30/09/2016 23:00 SR6     0.05355073   0.9464493  "
      ]
     },
     "metadata": {},
     "output_type": "display_data"
    }
   ],
   "source": [
    "tail(util)"
   ]
  },
  {
   "cell_type": "markdown",
   "metadata": {},
   "source": [
    "Notice the date is in DD / MM / YYYY 24:MM Format\n",
    "\n",
    "There are two basic classes of date/times. Class \"POSIXct\" represents the (signed) number of seconds since the beginning of 1970 (in the UTC time zone) as a numeric vector."
   ]
  },
  {
   "cell_type": "code",
   "execution_count": 47,
   "metadata": {
    "collapsed": true
   },
   "outputs": [],
   "source": [
    "util$PosixTime = as.POSIXct(util$Timestamp, format =\"%d/%m/%Y %H:%M\")"
   ]
  },
  {
   "cell_type": "code",
   "execution_count": 48,
   "metadata": {},
   "outputs": [
    {
     "data": {
      "text/html": [
       "<table>\n",
       "<thead><tr><th scope=col>Timestamp</th><th scope=col>Machine</th><th scope=col>Percent.Idle</th><th scope=col>Utilization</th><th scope=col>PosixTime</th></tr></thead>\n",
       "<tbody>\n",
       "\t<tr><td>01/09/2016 00:00   </td><td>RL1                </td><td>        NA         </td><td>       NA          </td><td>2016-09-01 00:00:00</td></tr>\n",
       "\t<tr><td>01/09/2016 01:00   </td><td>RL1                </td><td>        NA         </td><td>       NA          </td><td>2016-09-01 01:00:00</td></tr>\n",
       "\t<tr><td>01/09/2016 02:00   </td><td>RL1                </td><td>        NA         </td><td>       NA          </td><td>2016-09-01 02:00:00</td></tr>\n",
       "\t<tr><td>01/09/2016 03:00   </td><td>RL1                </td><td>        NA         </td><td>       NA          </td><td>2016-09-01 03:00:00</td></tr>\n",
       "\t<tr><td>01/09/2016 04:00   </td><td>RL1                </td><td>        NA         </td><td>       NA          </td><td>2016-09-01 04:00:00</td></tr>\n",
       "\t<tr><td>01/09/2016 05:00   </td><td>RL1                </td><td>        NA         </td><td>       NA          </td><td>2016-09-01 05:00:00</td></tr>\n",
       "\t<tr><td>01/09/2016 06:00   </td><td>RL1                </td><td>        NA         </td><td>       NA          </td><td>2016-09-01 06:00:00</td></tr>\n",
       "\t<tr><td>01/09/2016 07:00   </td><td>RL1                </td><td>0.01994048         </td><td>0.9800595          </td><td>2016-09-01 07:00:00</td></tr>\n",
       "\t<tr><td>01/09/2016 08:00   </td><td>RL1                </td><td>0.01997024         </td><td>0.9800298          </td><td>2016-09-01 08:00:00</td></tr>\n",
       "\t<tr><td>01/09/2016 09:00   </td><td>RL1                </td><td>0.02119048         </td><td>0.9788095          </td><td>2016-09-01 09:00:00</td></tr>\n",
       "</tbody>\n",
       "</table>\n"
      ],
      "text/latex": [
       "\\begin{tabular}{r|lllll}\n",
       " Timestamp & Machine & Percent.Idle & Utilization & PosixTime\\\\\n",
       "\\hline\n",
       "\t 01/09/2016 00:00    & RL1                 &         NA          &        NA           & 2016-09-01 00:00:00\\\\\n",
       "\t 01/09/2016 01:00    & RL1                 &         NA          &        NA           & 2016-09-01 01:00:00\\\\\n",
       "\t 01/09/2016 02:00    & RL1                 &         NA          &        NA           & 2016-09-01 02:00:00\\\\\n",
       "\t 01/09/2016 03:00    & RL1                 &         NA          &        NA           & 2016-09-01 03:00:00\\\\\n",
       "\t 01/09/2016 04:00    & RL1                 &         NA          &        NA           & 2016-09-01 04:00:00\\\\\n",
       "\t 01/09/2016 05:00    & RL1                 &         NA          &        NA           & 2016-09-01 05:00:00\\\\\n",
       "\t 01/09/2016 06:00    & RL1                 &         NA          &        NA           & 2016-09-01 06:00:00\\\\\n",
       "\t 01/09/2016 07:00    & RL1                 & 0.01994048          & 0.9800595           & 2016-09-01 07:00:00\\\\\n",
       "\t 01/09/2016 08:00    & RL1                 & 0.01997024          & 0.9800298           & 2016-09-01 08:00:00\\\\\n",
       "\t 01/09/2016 09:00    & RL1                 & 0.02119048          & 0.9788095           & 2016-09-01 09:00:00\\\\\n",
       "\\end{tabular}\n"
      ],
      "text/markdown": [
       "\n",
       "Timestamp | Machine | Percent.Idle | Utilization | PosixTime | \n",
       "|---|---|---|---|---|---|---|---|---|---|\n",
       "| 01/09/2016 00:00    | RL1                 |         NA          |        NA           | 2016-09-01 00:00:00 | \n",
       "| 01/09/2016 01:00    | RL1                 |         NA          |        NA           | 2016-09-01 01:00:00 | \n",
       "| 01/09/2016 02:00    | RL1                 |         NA          |        NA           | 2016-09-01 02:00:00 | \n",
       "| 01/09/2016 03:00    | RL1                 |         NA          |        NA           | 2016-09-01 03:00:00 | \n",
       "| 01/09/2016 04:00    | RL1                 |         NA          |        NA           | 2016-09-01 04:00:00 | \n",
       "| 01/09/2016 05:00    | RL1                 |         NA          |        NA           | 2016-09-01 05:00:00 | \n",
       "| 01/09/2016 06:00    | RL1                 |         NA          |        NA           | 2016-09-01 06:00:00 | \n",
       "| 01/09/2016 07:00    | RL1                 | 0.01994048          | 0.9800595           | 2016-09-01 07:00:00 | \n",
       "| 01/09/2016 08:00    | RL1                 | 0.01997024          | 0.9800298           | 2016-09-01 08:00:00 | \n",
       "| 01/09/2016 09:00    | RL1                 | 0.02119048          | 0.9788095           | 2016-09-01 09:00:00 | \n",
       "\n",
       "\n"
      ],
      "text/plain": [
       "   Timestamp        Machine Percent.Idle Utilization PosixTime          \n",
       "1  01/09/2016 00:00 RL1             NA          NA   2016-09-01 00:00:00\n",
       "2  01/09/2016 01:00 RL1             NA          NA   2016-09-01 01:00:00\n",
       "3  01/09/2016 02:00 RL1             NA          NA   2016-09-01 02:00:00\n",
       "4  01/09/2016 03:00 RL1             NA          NA   2016-09-01 03:00:00\n",
       "5  01/09/2016 04:00 RL1             NA          NA   2016-09-01 04:00:00\n",
       "6  01/09/2016 05:00 RL1             NA          NA   2016-09-01 05:00:00\n",
       "7  01/09/2016 06:00 RL1             NA          NA   2016-09-01 06:00:00\n",
       "8  01/09/2016 07:00 RL1     0.01994048   0.9800595   2016-09-01 07:00:00\n",
       "9  01/09/2016 08:00 RL1     0.01997024   0.9800298   2016-09-01 08:00:00\n",
       "10 01/09/2016 09:00 RL1     0.02119048   0.9788095   2016-09-01 09:00:00"
      ]
     },
     "metadata": {},
     "output_type": "display_data"
    }
   ],
   "source": [
    "head(util,10)"
   ]
  },
  {
   "cell_type": "code",
   "execution_count": 49,
   "metadata": {},
   "outputs": [
    {
     "data": {
      "text/plain": [
       "            Timestamp    Machine     Percent.Idle     Utilization    \n",
       " 01/09/2016 00:00:   5   RL1 :720   Min.   :0.0000   Min.   :0.8492  \n",
       " 01/09/2016 01:00:   5   RL2 :720   1st Qu.:0.0262   1st Qu.:0.9424  \n",
       " 01/09/2016 02:00:   5   SR1 :720   Median :0.0410   Median :0.9590  \n",
       " 01/09/2016 03:00:   5   SR4A:720   Mean   :0.0431   Mean   :0.9569  \n",
       " 01/09/2016 04:00:   5   SR6 :720   3rd Qu.:0.0576   3rd Qu.:0.9738  \n",
       " 01/09/2016 05:00:   5              Max.   :0.1508   Max.   :1.0000  \n",
       " (Other)         :3570              NA's   :361      NA's   :361     \n",
       "   PosixTime                  \n",
       " Min.   :2016-09-01 00:00:00  \n",
       " 1st Qu.:2016-09-08 11:45:00  \n",
       " Median :2016-09-15 23:30:00  \n",
       " Mean   :2016-09-15 23:30:00  \n",
       " 3rd Qu.:2016-09-23 11:15:00  \n",
       " Max.   :2016-09-30 23:00:00  \n",
       "                              "
      ]
     },
     "metadata": {},
     "output_type": "display_data"
    }
   ],
   "source": [
    "summary(util)"
   ]
  },
  {
   "cell_type": "markdown",
   "metadata": {},
   "source": [
    "## Let's rearrange some things"
   ]
  },
  {
   "cell_type": "code",
   "execution_count": 50,
   "metadata": {
    "collapsed": true
   },
   "outputs": [],
   "source": [
    "util$Timestamp = NULL"
   ]
  },
  {
   "cell_type": "code",
   "execution_count": 51,
   "metadata": {
    "collapsed": true
   },
   "outputs": [],
   "source": [
    "util = util[,c(4,1,2,3)]"
   ]
  },
  {
   "cell_type": "code",
   "execution_count": 52,
   "metadata": {},
   "outputs": [
    {
     "data": {
      "text/html": [
       "<table>\n",
       "<thead><tr><th scope=col>PosixTime</th><th scope=col>Machine</th><th scope=col>Percent.Idle</th><th scope=col>Utilization</th></tr></thead>\n",
       "<tbody>\n",
       "\t<tr><td>2016-09-01 00:00:00</td><td>RL1                </td><td>        NA         </td><td>       NA          </td></tr>\n",
       "\t<tr><td>2016-09-01 01:00:00</td><td>RL1                </td><td>        NA         </td><td>       NA          </td></tr>\n",
       "\t<tr><td>2016-09-01 02:00:00</td><td>RL1                </td><td>        NA         </td><td>       NA          </td></tr>\n",
       "\t<tr><td>2016-09-01 03:00:00</td><td>RL1                </td><td>        NA         </td><td>       NA          </td></tr>\n",
       "\t<tr><td>2016-09-01 04:00:00</td><td>RL1                </td><td>        NA         </td><td>       NA          </td></tr>\n",
       "\t<tr><td>2016-09-01 05:00:00</td><td>RL1                </td><td>        NA         </td><td>       NA          </td></tr>\n",
       "\t<tr><td>2016-09-01 06:00:00</td><td>RL1                </td><td>        NA         </td><td>       NA          </td></tr>\n",
       "\t<tr><td>2016-09-01 07:00:00</td><td>RL1                </td><td>0.01994048         </td><td>0.9800595          </td></tr>\n",
       "\t<tr><td>2016-09-01 08:00:00</td><td>RL1                </td><td>0.01997024         </td><td>0.9800298          </td></tr>\n",
       "\t<tr><td>2016-09-01 09:00:00</td><td>RL1                </td><td>0.02119048         </td><td>0.9788095          </td></tr>\n",
       "</tbody>\n",
       "</table>\n"
      ],
      "text/latex": [
       "\\begin{tabular}{r|llll}\n",
       " PosixTime & Machine & Percent.Idle & Utilization\\\\\n",
       "\\hline\n",
       "\t 2016-09-01 00:00:00 & RL1                 &         NA          &        NA          \\\\\n",
       "\t 2016-09-01 01:00:00 & RL1                 &         NA          &        NA          \\\\\n",
       "\t 2016-09-01 02:00:00 & RL1                 &         NA          &        NA          \\\\\n",
       "\t 2016-09-01 03:00:00 & RL1                 &         NA          &        NA          \\\\\n",
       "\t 2016-09-01 04:00:00 & RL1                 &         NA          &        NA          \\\\\n",
       "\t 2016-09-01 05:00:00 & RL1                 &         NA          &        NA          \\\\\n",
       "\t 2016-09-01 06:00:00 & RL1                 &         NA          &        NA          \\\\\n",
       "\t 2016-09-01 07:00:00 & RL1                 & 0.01994048          & 0.9800595          \\\\\n",
       "\t 2016-09-01 08:00:00 & RL1                 & 0.01997024          & 0.9800298          \\\\\n",
       "\t 2016-09-01 09:00:00 & RL1                 & 0.02119048          & 0.9788095          \\\\\n",
       "\\end{tabular}\n"
      ],
      "text/markdown": [
       "\n",
       "PosixTime | Machine | Percent.Idle | Utilization | \n",
       "|---|---|---|---|---|---|---|---|---|---|\n",
       "| 2016-09-01 00:00:00 | RL1                 |         NA          |        NA           | \n",
       "| 2016-09-01 01:00:00 | RL1                 |         NA          |        NA           | \n",
       "| 2016-09-01 02:00:00 | RL1                 |         NA          |        NA           | \n",
       "| 2016-09-01 03:00:00 | RL1                 |         NA          |        NA           | \n",
       "| 2016-09-01 04:00:00 | RL1                 |         NA          |        NA           | \n",
       "| 2016-09-01 05:00:00 | RL1                 |         NA          |        NA           | \n",
       "| 2016-09-01 06:00:00 | RL1                 |         NA          |        NA           | \n",
       "| 2016-09-01 07:00:00 | RL1                 | 0.01994048          | 0.9800595           | \n",
       "| 2016-09-01 08:00:00 | RL1                 | 0.01997024          | 0.9800298           | \n",
       "| 2016-09-01 09:00:00 | RL1                 | 0.02119048          | 0.9788095           | \n",
       "\n",
       "\n"
      ],
      "text/plain": [
       "   PosixTime           Machine Percent.Idle Utilization\n",
       "1  2016-09-01 00:00:00 RL1             NA          NA  \n",
       "2  2016-09-01 01:00:00 RL1             NA          NA  \n",
       "3  2016-09-01 02:00:00 RL1             NA          NA  \n",
       "4  2016-09-01 03:00:00 RL1             NA          NA  \n",
       "5  2016-09-01 04:00:00 RL1             NA          NA  \n",
       "6  2016-09-01 05:00:00 RL1             NA          NA  \n",
       "7  2016-09-01 06:00:00 RL1             NA          NA  \n",
       "8  2016-09-01 07:00:00 RL1     0.01994048   0.9800595  \n",
       "9  2016-09-01 08:00:00 RL1     0.01997024   0.9800298  \n",
       "10 2016-09-01 09:00:00 RL1     0.02119048   0.9788095  "
      ]
     },
     "metadata": {},
     "output_type": "display_data"
    }
   ],
   "source": [
    "head(util,10)"
   ]
  },
  {
   "cell_type": "markdown",
   "metadata": {},
   "source": [
    "# Wait, what's a list?"
   ]
  },
  {
   "cell_type": "code",
   "execution_count": 53,
   "metadata": {
    "collapsed": true
   },
   "outputs": [],
   "source": [
    "RL1 = util[util$Machine == \"RL1\",]"
   ]
  },
  {
   "cell_type": "code",
   "execution_count": 54,
   "metadata": {
    "collapsed": true
   },
   "outputs": [],
   "source": [
    "RL1$Machine = factor(RL1$Machine)"
   ]
  },
  {
   "cell_type": "code",
   "execution_count": 55,
   "metadata": {},
   "outputs": [
    {
     "data": {
      "text/plain": [
       "   PosixTime                   Machine    Percent.Idle      Utilization    \n",
       " Min.   :2016-09-01 00:00:00   RL1:720   Min.   :0.00500   Min.   :0.8492  \n",
       " 1st Qu.:2016-09-08 11:45:00             1st Qu.:0.03208   1st Qu.:0.9403  \n",
       " Median :2016-09-15 23:30:00             Median :0.04613   Median :0.9539  \n",
       " Mean   :2016-09-15 23:30:00             Mean   :0.04830   Mean   :0.9517  \n",
       " 3rd Qu.:2016-09-23 11:15:00             3rd Qu.:0.05967   3rd Qu.:0.9679  \n",
       " Max.   :2016-09-30 23:00:00             Max.   :0.15077   Max.   :0.9950  \n",
       "                                         NA's   :7         NA's   :7       "
      ]
     },
     "metadata": {},
     "output_type": "display_data"
    }
   ],
   "source": [
    "summary(RL1)"
   ]
  },
  {
   "cell_type": "markdown",
   "metadata": {},
   "source": [
    "## Constructing the list\n",
    "\n",
    "* Character: Machine name\n",
    "* Vector: (Min, Mean, Max) utilization for the month (excluding unknown hours)\n",
    "* Logical: Has utilization ever fallen below 90%? T/F"
   ]
  },
  {
   "cell_type": "code",
   "execution_count": 56,
   "metadata": {
    "collapsed": true
   },
   "outputs": [],
   "source": [
    "# Vector\n",
    "util_stats_rl1 = c(min(RL1$Utilization, na.rm=T),\n",
    "                mean((RL1$Utilization), na.rm =T),\n",
    "                max((RL1$Utilization), na.rm =T))"
   ]
  },
  {
   "cell_type": "code",
   "execution_count": 57,
   "metadata": {},
   "outputs": [
    {
     "data": {
      "text/html": [
       "TRUE"
      ],
      "text/latex": [
       "TRUE"
      ],
      "text/markdown": [
       "TRUE"
      ],
      "text/plain": [
       "[1] TRUE"
      ]
     },
     "metadata": {},
     "output_type": "display_data"
    }
   ],
   "source": [
    "# Logical\n",
    "util_under_90_flag = length(which(RL1$Utilization < .90))>0\n",
    "util_under_90_flag"
   ]
  },
  {
   "cell_type": "code",
   "execution_count": 58,
   "metadata": {},
   "outputs": [
    {
     "data": {
      "text/html": [
       "<ol>\n",
       "\t<li>'RL1'</li>\n",
       "\t<li><ol class=list-inline>\n",
       "\t<li>0.84922619</li>\n",
       "\t<li>0.951697597345021</li>\n",
       "\t<li>0.995</li>\n",
       "</ol>\n",
       "</li>\n",
       "\t<li>TRUE</li>\n",
       "</ol>\n"
      ],
      "text/latex": [
       "\\begin{enumerate}\n",
       "\\item 'RL1'\n",
       "\\item \\begin{enumerate*}\n",
       "\\item 0.84922619\n",
       "\\item 0.951697597345021\n",
       "\\item 0.995\n",
       "\\end{enumerate*}\n",
       "\n",
       "\\item TRUE\n",
       "\\end{enumerate}\n"
      ],
      "text/markdown": [
       "1. 'RL1'\n",
       "2. 1. 0.84922619\n",
       "2. 0.951697597345021\n",
       "3. 0.995\n",
       "\n",
       "\n",
       "\n",
       "3. TRUE\n",
       "\n",
       "\n"
      ],
      "text/plain": [
       "[[1]]\n",
       "[1] \"RL1\"\n",
       "\n",
       "[[2]]\n",
       "[1] 0.8492262 0.9516976 0.9950000\n",
       "\n",
       "[[3]]\n",
       "[1] TRUE\n"
      ]
     },
     "metadata": {},
     "output_type": "display_data"
    }
   ],
   "source": [
    "list_rl1 = list(\"RL1\", util_stats_rl1, util_under_90_flag)\n",
    "list_rl1"
   ]
  },
  {
   "cell_type": "markdown",
   "metadata": {},
   "source": [
    "# Naming Components of a list"
   ]
  },
  {
   "cell_type": "code",
   "execution_count": 59,
   "metadata": {},
   "outputs": [
    {
     "data": {
      "text/html": [
       "<dl>\n",
       "\t<dt>$Machine</dt>\n",
       "\t\t<dd>'RL1'</dd>\n",
       "\t<dt>$`Stats; Min,Mean,Max`</dt>\n",
       "\t\t<dd><ol class=list-inline>\n",
       "\t<li>0.84922619</li>\n",
       "\t<li>0.951697597345021</li>\n",
       "\t<li>0.995</li>\n",
       "</ol>\n",
       "</dd>\n",
       "\t<dt>$`Low Threshold`</dt>\n",
       "\t\t<dd>TRUE</dd>\n",
       "</dl>\n"
      ],
      "text/latex": [
       "\\begin{description}\n",
       "\\item[\\$Machine] 'RL1'\n",
       "\\item[\\$`Stats; Min,Mean,Max`] \\begin{enumerate*}\n",
       "\\item 0.84922619\n",
       "\\item 0.951697597345021\n",
       "\\item 0.995\n",
       "\\end{enumerate*}\n",
       "\n",
       "\\item[\\$`Low Threshold`] TRUE\n",
       "\\end{description}\n"
      ],
      "text/markdown": [
       "$Machine\n",
       ":   'RL1'\n",
       "$`Stats; Min,Mean,Max`\n",
       ":   1. 0.84922619\n",
       "2. 0.951697597345021\n",
       "3. 0.995\n",
       "\n",
       "\n",
       "\n",
       "$`Low Threshold`\n",
       ":   TRUE\n",
       "\n",
       "\n"
      ],
      "text/plain": [
       "$Machine\n",
       "[1] \"RL1\"\n",
       "\n",
       "$`Stats; Min,Mean,Max`\n",
       "[1] 0.8492262 0.9516976 0.9950000\n",
       "\n",
       "$`Low Threshold`\n",
       "[1] TRUE\n"
      ]
     },
     "metadata": {},
     "output_type": "display_data"
    }
   ],
   "source": [
    "names(list_rl1) = c(\"Machine\", \"Stats; Min,Mean,Max\", \"Low Threshold\")\n",
    "list_rl1"
   ]
  },
  {
   "cell_type": "markdown",
   "metadata": {},
   "source": [
    "# Extracting components of a list\n",
    "\n",
    "1. [] - will always return a list\n",
    "2. [[]] - will always return the actual object\n",
    "3. $ - same as [[]] but prettier"
   ]
  },
  {
   "cell_type": "code",
   "execution_count": 60,
   "metadata": {},
   "outputs": [
    {
     "data": {
      "text/html": [
       "<strong>$Machine</strong> = 'RL1'"
      ],
      "text/latex": [
       "\\textbf{\\$Machine} = 'RL1'"
      ],
      "text/markdown": [
       "**$Machine** = 'RL1'"
      ],
      "text/plain": [
       "$Machine\n",
       "[1] \"RL1\"\n"
      ]
     },
     "metadata": {},
     "output_type": "display_data"
    }
   ],
   "source": [
    "list_rl1[1]"
   ]
  },
  {
   "cell_type": "code",
   "execution_count": 61,
   "metadata": {},
   "outputs": [
    {
     "data": {
      "text/html": [
       "'RL1'"
      ],
      "text/latex": [
       "'RL1'"
      ],
      "text/markdown": [
       "'RL1'"
      ],
      "text/plain": [
       "[1] \"RL1\""
      ]
     },
     "metadata": {},
     "output_type": "display_data"
    }
   ],
   "source": [
    "list_rl1[[1]]"
   ]
  },
  {
   "cell_type": "code",
   "execution_count": 62,
   "metadata": {},
   "outputs": [
    {
     "data": {
      "text/html": [
       "'RL1'"
      ],
      "text/latex": [
       "'RL1'"
      ],
      "text/markdown": [
       "'RL1'"
      ],
      "text/plain": [
       "[1] \"RL1\""
      ]
     },
     "metadata": {},
     "output_type": "display_data"
    }
   ],
   "source": [
    "list_rl1$Machine"
   ]
  },
  {
   "cell_type": "code",
   "execution_count": 63,
   "metadata": {},
   "outputs": [
    {
     "data": {
      "text/html": [
       "<strong>$`Stats; Min,Mean,Max`</strong> = <ol class=list-inline>\n",
       "\t<li>0.84922619</li>\n",
       "\t<li>0.951697597345021</li>\n",
       "\t<li>0.995</li>\n",
       "</ol>\n"
      ],
      "text/latex": [
       "\\textbf{\\$`Stats; Min,Mean,Max`} = \\begin{enumerate*}\n",
       "\\item 0.84922619\n",
       "\\item 0.951697597345021\n",
       "\\item 0.995\n",
       "\\end{enumerate*}\n"
      ],
      "text/markdown": [
       "**$`Stats; Min,Mean,Max`** = 1. 0.84922619\n",
       "2. 0.951697597345021\n",
       "3. 0.995\n",
       "\n",
       "\n"
      ],
      "text/plain": [
       "$`Stats; Min,Mean,Max`\n",
       "[1] 0.8492262 0.9516976 0.9950000\n"
      ]
     },
     "metadata": {},
     "output_type": "display_data"
    }
   ],
   "source": [
    "list_rl1[2]"
   ]
  },
  {
   "cell_type": "code",
   "execution_count": 64,
   "metadata": {},
   "outputs": [
    {
     "data": {
      "text/html": [
       "'list'"
      ],
      "text/latex": [
       "'list'"
      ],
      "text/markdown": [
       "'list'"
      ],
      "text/plain": [
       "[1] \"list\""
      ]
     },
     "metadata": {},
     "output_type": "display_data"
    }
   ],
   "source": [
    "typeof(list_rl1[2])"
   ]
  },
  {
   "cell_type": "code",
   "execution_count": 65,
   "metadata": {},
   "outputs": [
    {
     "data": {
      "text/html": [
       "<ol class=list-inline>\n",
       "\t<li>0.84922619</li>\n",
       "\t<li>0.951697597345021</li>\n",
       "\t<li>0.995</li>\n",
       "</ol>\n"
      ],
      "text/latex": [
       "\\begin{enumerate*}\n",
       "\\item 0.84922619\n",
       "\\item 0.951697597345021\n",
       "\\item 0.995\n",
       "\\end{enumerate*}\n"
      ],
      "text/markdown": [
       "1. 0.84922619\n",
       "2. 0.951697597345021\n",
       "3. 0.995\n",
       "\n",
       "\n"
      ],
      "text/plain": [
       "[1] 0.8492262 0.9516976 0.9950000"
      ]
     },
     "metadata": {},
     "output_type": "display_data"
    }
   ],
   "source": [
    "list_rl1$Stats"
   ]
  },
  {
   "cell_type": "code",
   "execution_count": 66,
   "metadata": {},
   "outputs": [
    {
     "data": {
      "text/html": [
       "'double'"
      ],
      "text/latex": [
       "'double'"
      ],
      "text/markdown": [
       "'double'"
      ],
      "text/plain": [
       "[1] \"double\""
      ]
     },
     "metadata": {},
     "output_type": "display_data"
    }
   ],
   "source": [
    "typeof(list_rl1$Stats)"
   ]
  },
  {
   "cell_type": "markdown",
   "metadata": {},
   "source": [
    "## Accessing elements of an embedded list"
   ]
  },
  {
   "cell_type": "code",
   "execution_count": 67,
   "metadata": {},
   "outputs": [
    {
     "data": {
      "text/html": [
       "0.995"
      ],
      "text/latex": [
       "0.995"
      ],
      "text/markdown": [
       "0.995"
      ],
      "text/plain": [
       "[1] 0.995"
      ]
     },
     "metadata": {},
     "output_type": "display_data"
    }
   ],
   "source": [
    "list_rl1[[2]][3]"
   ]
  },
  {
   "cell_type": "markdown",
   "metadata": {},
   "source": [
    "# Adding and deleting components"
   ]
  },
  {
   "cell_type": "code",
   "execution_count": 68,
   "metadata": {},
   "outputs": [
    {
     "data": {
      "text/plain": [
       "$Machine\n",
       "[1] \"RL1\"\n",
       "\n",
       "$`Stats; Min,Mean,Max`\n",
       "[1] 0.8492262 0.9516976 0.9950000\n",
       "\n",
       "$`Low Threshold`\n",
       "[1] TRUE\n",
       "\n",
       "[[4]]\n",
       "[1] \"New info\"\n"
      ]
     },
     "metadata": {},
     "output_type": "display_data"
    }
   ],
   "source": [
    "list_rl1[4] = \"New info\"\n",
    "list_rl1"
   ]
  },
  {
   "cell_type": "code",
   "execution_count": 69,
   "metadata": {},
   "outputs": [
    {
     "data": {
      "text/plain": [
       "$Machine\n",
       "[1] \"RL1\"\n",
       "\n",
       "$`Stats; Min,Mean,Max`\n",
       "[1] 0.8492262 0.9516976 0.9950000\n",
       "\n",
       "$`Low Threshold`\n",
       "[1] TRUE\n",
       "\n",
       "[[4]]\n",
       "[1] \"New info\"\n",
       "\n",
       "$UnknownHours\n",
       "[1] \"2016-09-01 00:00:00 PDT\" \"2016-09-01 01:00:00 PDT\"\n",
       "[3] \"2016-09-01 02:00:00 PDT\" \"2016-09-01 03:00:00 PDT\"\n",
       "[5] \"2016-09-01 04:00:00 PDT\" \"2016-09-01 05:00:00 PDT\"\n",
       "[7] \"2016-09-01 06:00:00 PDT\"\n"
      ]
     },
     "metadata": {},
     "output_type": "display_data"
    }
   ],
   "source": [
    "list_rl1$UnknownHours = RL1[is.na(RL1$Utilization),\"PosixTime\"]\n",
    "list_rl1"
   ]
  },
  {
   "cell_type": "markdown",
   "metadata": {},
   "source": [
    "## Remove an item"
   ]
  },
  {
   "cell_type": "code",
   "execution_count": 70,
   "metadata": {},
   "outputs": [
    {
     "data": {
      "text/plain": [
       "$Machine\n",
       "[1] \"RL1\"\n",
       "\n",
       "$`Stats; Min,Mean,Max`\n",
       "[1] 0.8492262 0.9516976 0.9950000\n",
       "\n",
       "$`Low Threshold`\n",
       "[1] TRUE\n",
       "\n",
       "$UnknownHours\n",
       "[1] \"2016-09-01 00:00:00 PDT\" \"2016-09-01 01:00:00 PDT\"\n",
       "[3] \"2016-09-01 02:00:00 PDT\" \"2016-09-01 03:00:00 PDT\"\n",
       "[5] \"2016-09-01 04:00:00 PDT\" \"2016-09-01 05:00:00 PDT\"\n",
       "[7] \"2016-09-01 06:00:00 PDT\"\n"
      ]
     },
     "metadata": {},
     "output_type": "display_data"
    }
   ],
   "source": [
    "list_rl1[4] = NULL\n",
    "list_rl1"
   ]
  },
  {
   "cell_type": "markdown",
   "metadata": {},
   "source": [
    "Numeration has shifted. Note this!"
   ]
  },
  {
   "cell_type": "markdown",
   "metadata": {},
   "source": [
    "## The df"
   ]
  },
  {
   "cell_type": "code",
   "execution_count": 71,
   "metadata": {
    "scrolled": true
   },
   "outputs": [
    {
     "data": {
      "text/plain": [
       "                    Length Class      Mode     \n",
       "Machine             1      -none-     character\n",
       "Stats; Min,Mean,Max 3      -none-     numeric  \n",
       "Low Threshold       1      -none-     logical  \n",
       "UnknownHours        7      POSIXct    numeric  \n",
       "Data                4      data.frame list     "
      ]
     },
     "metadata": {},
     "output_type": "display_data"
    }
   ],
   "source": [
    "list_rl1$Data = RL1\n",
    "summary(list_rl1)"
   ]
  },
  {
   "cell_type": "markdown",
   "metadata": {},
   "source": [
    "# Subsetting a list"
   ]
  },
  {
   "cell_type": "code",
   "execution_count": 72,
   "metadata": {},
   "outputs": [
    {
     "data": {
      "text/html": [
       "<dl>\n",
       "\t<dt>$Machine</dt>\n",
       "\t\t<dd>'RL1'</dd>\n",
       "\t<dt>$`Stats; Min,Mean,Max`</dt>\n",
       "\t\t<dd><ol class=list-inline>\n",
       "\t<li>0.84922619</li>\n",
       "\t<li>0.951697597345021</li>\n",
       "\t<li>0.995</li>\n",
       "</ol>\n",
       "</dd>\n",
       "</dl>\n"
      ],
      "text/latex": [
       "\\begin{description}\n",
       "\\item[\\$Machine] 'RL1'\n",
       "\\item[\\$`Stats; Min,Mean,Max`] \\begin{enumerate*}\n",
       "\\item 0.84922619\n",
       "\\item 0.951697597345021\n",
       "\\item 0.995\n",
       "\\end{enumerate*}\n",
       "\n",
       "\\end{description}\n"
      ],
      "text/markdown": [
       "$Machine\n",
       ":   'RL1'\n",
       "$`Stats; Min,Mean,Max`\n",
       ":   1. 0.84922619\n",
       "2. 0.951697597345021\n",
       "3. 0.995\n",
       "\n",
       "\n",
       "\n",
       "\n",
       "\n"
      ],
      "text/plain": [
       "$Machine\n",
       "[1] \"RL1\"\n",
       "\n",
       "$`Stats; Min,Mean,Max`\n",
       "[1] 0.8492262 0.9516976 0.9950000\n"
      ]
     },
     "metadata": {},
     "output_type": "display_data"
    },
    {
     "data": {
      "text/html": [
       "0.951697597345021"
      ],
      "text/latex": [
       "0.951697597345021"
      ],
      "text/markdown": [
       "0.951697597345021"
      ],
      "text/plain": [
       "[1] 0.9516976"
      ]
     },
     "metadata": {},
     "output_type": "display_data"
    }
   ],
   "source": [
    "sublist_rl1 = list_rl1[c(\"Machine\", \"Stats; Min,Mean,Max\")]\n",
    "sublist_rl1\n",
    "# How to get the mean?\n",
    "sublist_rl1[[2]][2]"
   ]
  },
  {
   "cell_type": "markdown",
   "metadata": {},
   "source": [
    "# Creating a time-series plot"
   ]
  },
  {
   "cell_type": "code",
   "execution_count": 95,
   "metadata": {},
   "outputs": [
    {
     "name": "stderr",
     "output_type": "stream",
     "text": [
      "Warning message:\n",
      "\"Removed 155 rows containing missing values (geom_path).\""
     ]
    },
    {
     "data": {},
     "metadata": {},
     "output_type": "display_data"
    },
    {
     "data": {
      "image/png": "[encoded data removed]",
      "text/plain": [
       "plot without title"
      ]
     },
     "metadata": {},
     "output_type": "display_data"
    }
   ],
   "source": [
    "library(ggplot2)\n",
    "p = ggplot(data=util)\n",
    "my_plot = p + geom_line(aes(x=PosixTime, y=Utilization,\n",
    "               colour=Machine), size = .8, alpha = .8)+\n",
    "    facet_grid(Machine~.)+\n",
    "    geom_hline(yintercept = .90,\n",
    "              colour = \"Black\", size = .5,\n",
    "              linetype=2, alpha = .5)\n",
    "my_plot"
   ]
  },
  {
   "cell_type": "code",
   "execution_count": 96,
   "metadata": {
    "collapsed": true
   },
   "outputs": [],
   "source": [
    "list_rl1$Plot = my_plot"
   ]
  },
  {
   "cell_type": "code",
   "execution_count": 97,
   "metadata": {},
   "outputs": [
    {
     "data": {
      "text/plain": [
       "                    Length Class      Mode     \n",
       "Machine             1      -none-     character\n",
       "Stats; Min,Mean,Max 3      -none-     numeric  \n",
       "Low Threshold       1      -none-     logical  \n",
       "UnknownHours        7      POSIXct    numeric  \n",
       "Data                4      data.frame list     \n",
       "Plot                9      gg         list     "
      ]
     },
     "metadata": {},
     "output_type": "display_data"
    }
   ],
   "source": [
    "summary(list_rl1)"
   ]
  },
  {
   "cell_type": "markdown",
   "metadata": {},
   "source": [
    "Now you have a list of all the details to recreate the plot!"
   ]
  },
  {
   "cell_type": "code",
   "execution_count": null,
   "metadata": {
    "collapsed": true
   },
   "outputs": [],
   "source": []
  }
 ],
 "metadata": {
  "kernelspec": {
   "display_name": "R",
   "language": "R",
   "name": "ir"
  },
  "language_info": {
   "codemirror_mode": "r",
   "file_extension": ".r",
   "mimetype": "text/x-r-source",
   "name": "R",
   "pygments_lexer": "r",
   "version": "3.4.2"
  }
 },
 "nbformat": 4,
 "nbformat_minor": 2
}
