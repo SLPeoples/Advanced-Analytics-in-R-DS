{
 "cells": [
  {
   "cell_type": "markdown",
   "metadata": {},
   "source": [
    "# Project Overview\n",
    "\n",
    "You have been engaged as a Data Science consultant by a coal terminal. They would like you to investigate one of their heavy machines.\n",
    "\n",
    "You have been supplied one month worth of data for all of their machines. The dataset shows what percentage of capacity for each machine was idle in any given hour. You are require to deliver an R list with the following components:\n",
    "\n",
    "* Character: Machine name\n",
    "* Vector: (Min, Mean, Max) utilization for the month (excluding unknown hours)\n",
    "* Logical: Has utilization ever fallen below 90%? T/F\n",
    "* Dataframe: For this machine\n",
    "* Plot: For all machines"
   ]
  },
  {
   "cell_type": "code",
   "execution_count": null,
   "metadata": {
    "collapsed": true
   },
   "outputs": [],
   "source": []
  }
 ],
 "metadata": {
  "kernelspec": {
   "display_name": "R",
   "language": "R",
   "name": "ir"
  },
  "language_info": {
   "codemirror_mode": "r",
   "file_extension": ".r",
   "mimetype": "text/x-r-source",
   "name": "R",
   "pygments_lexer": "r",
   "version": "3.4.2"
  }
 },
 "nbformat": 4,
 "nbformat_minor": 2
}
